{
 "cells": [
  {
   "cell_type": "markdown",
   "metadata": {
    "dc": {
     "key": "4"
    },
    "id": "-Sxae4jbdiT2",
    "run_control": {
     "frozen": true
    },
    "tags": [
     "context"
    ]
   },
   "source": [
    "# Introduction\n",
    "\n",
    "In this notebook, we will do a comprehensive analysis of the Android app market by comparing thousands of apps in the Google Play store."
   ]
  },
  {
   "cell_type": "markdown",
   "metadata": {
    "id": "sDT5lMxadiT3"
   },
   "source": [
    "# About the Dataset of Google Play Store Apps & Reviews"
   ]
  },
  {
   "cell_type": "markdown",
   "metadata": {
    "id": "5CiydsdNdiT3"
   },
   "source": [
    "**Data Source:** <br>\n",
    "App and review data was scraped from the Google Play Store by Lavanya Gupta in 2018. Original files listed [here](\n",
    "https://www.kaggle.com/lava18/google-play-store-apps)."
   ]
  },
  {
   "cell_type": "markdown",
   "metadata": {
    "id": "BBKBNy4UdiT4"
   },
   "source": [
    "# Import Statements"
   ]
  },
  {
   "cell_type": "code",
   "execution_count": 15,
   "metadata": {
    "executionInfo": {
     "elapsed": 594,
     "status": "ok",
     "timestamp": 1602234478794,
     "user": {
      "displayName": "Philipp Muellauer",
      "photoUrl": "https://lh3.googleusercontent.com/a-/AOh14GjjWitgsmZ0M9Wmzf-SRYD005WcMGhejWWHMUiZnFw=s64",
      "userId": "02749974243016517270"
     },
     "user_tz": -60
    },
    "id": "_5mfFH4_diT4"
   },
   "outputs": [
    {
     "name": "stdout",
     "output_type": "stream",
     "text": [
      "Requirement already satisfied: pip in /Users/architchoudhary/anaconda3/lib/python3.11/site-packages (23.2.1)\n",
      "Requirement already satisfied: codeium-jupyter in /Users/architchoudhary/.local/lib/python3.11/site-packages (1.1.21)\n",
      "Requirement already satisfied: aiohttp in /Users/architchoudhary/anaconda3/lib/python3.11/site-packages (from codeium-jupyter) (3.8.3)\n",
      "Requirement already satisfied: crc32c in /Users/architchoudhary/.local/lib/python3.11/site-packages (from codeium-jupyter) (2.3.post0)\n",
      "Requirement already satisfied: jupyter in /Users/architchoudhary/anaconda3/lib/python3.11/site-packages (from codeium-jupyter) (1.0.0)\n",
      "Requirement already satisfied: jupyter_core in /Users/architchoudhary/anaconda3/lib/python3.11/site-packages (from codeium-jupyter) (5.3.0)\n",
      "Requirement already satisfied: nbconvert in /Users/architchoudhary/anaconda3/lib/python3.11/site-packages (from codeium-jupyter) (6.5.4)\n",
      "Requirement already satisfied: notebook>=4.2 in /Users/architchoudhary/anaconda3/lib/python3.11/site-packages (from codeium-jupyter) (6.5.4)\n",
      "Requirement already satisfied: jinja2 in /Users/architchoudhary/anaconda3/lib/python3.11/site-packages (from notebook>=4.2->codeium-jupyter) (3.1.2)\n",
      "Requirement already satisfied: tornado>=6.1 in /Users/architchoudhary/anaconda3/lib/python3.11/site-packages (from notebook>=4.2->codeium-jupyter) (6.3.2)\n",
      "Requirement already satisfied: pyzmq>=17 in /Users/architchoudhary/anaconda3/lib/python3.11/site-packages (from notebook>=4.2->codeium-jupyter) (23.2.0)\n",
      "Requirement already satisfied: argon2-cffi in /Users/architchoudhary/anaconda3/lib/python3.11/site-packages (from notebook>=4.2->codeium-jupyter) (21.3.0)\n",
      "Requirement already satisfied: traitlets>=4.2.1 in /Users/architchoudhary/anaconda3/lib/python3.11/site-packages (from notebook>=4.2->codeium-jupyter) (5.7.1)\n",
      "Requirement already satisfied: jupyter-client>=5.3.4 in /Users/architchoudhary/anaconda3/lib/python3.11/site-packages (from notebook>=4.2->codeium-jupyter) (7.4.9)\n",
      "Requirement already satisfied: ipython-genutils in /Users/architchoudhary/anaconda3/lib/python3.11/site-packages (from notebook>=4.2->codeium-jupyter) (0.2.0)\n",
      "Requirement already satisfied: nbformat in /Users/architchoudhary/anaconda3/lib/python3.11/site-packages (from notebook>=4.2->codeium-jupyter) (5.7.0)\n",
      "Requirement already satisfied: nest-asyncio>=1.5 in /Users/architchoudhary/anaconda3/lib/python3.11/site-packages (from notebook>=4.2->codeium-jupyter) (1.5.6)\n",
      "Requirement already satisfied: ipykernel in /Users/architchoudhary/anaconda3/lib/python3.11/site-packages (from notebook>=4.2->codeium-jupyter) (6.19.2)\n",
      "Requirement already satisfied: Send2Trash>=1.8.0 in /Users/architchoudhary/anaconda3/lib/python3.11/site-packages (from notebook>=4.2->codeium-jupyter) (1.8.0)\n",
      "Requirement already satisfied: terminado>=0.8.3 in /Users/architchoudhary/anaconda3/lib/python3.11/site-packages (from notebook>=4.2->codeium-jupyter) (0.17.1)\n",
      "Requirement already satisfied: prometheus-client in /Users/architchoudhary/anaconda3/lib/python3.11/site-packages (from notebook>=4.2->codeium-jupyter) (0.14.1)\n",
      "Requirement already satisfied: nbclassic>=0.4.7 in /Users/architchoudhary/anaconda3/lib/python3.11/site-packages (from notebook>=4.2->codeium-jupyter) (0.5.5)\n",
      "Requirement already satisfied: platformdirs>=2.5 in /Users/architchoudhary/anaconda3/lib/python3.11/site-packages (from jupyter_core->codeium-jupyter) (2.5.2)\n",
      "Requirement already satisfied: lxml in /Users/architchoudhary/anaconda3/lib/python3.11/site-packages (from nbconvert->codeium-jupyter) (4.9.2)\n",
      "Requirement already satisfied: beautifulsoup4 in /Users/architchoudhary/anaconda3/lib/python3.11/site-packages (from nbconvert->codeium-jupyter) (4.12.2)\n",
      "Requirement already satisfied: bleach in /Users/architchoudhary/anaconda3/lib/python3.11/site-packages (from nbconvert->codeium-jupyter) (4.1.0)\n",
      "Requirement already satisfied: defusedxml in /Users/architchoudhary/anaconda3/lib/python3.11/site-packages (from nbconvert->codeium-jupyter) (0.7.1)\n",
      "Requirement already satisfied: entrypoints>=0.2.2 in /Users/architchoudhary/anaconda3/lib/python3.11/site-packages (from nbconvert->codeium-jupyter) (0.4)\n",
      "Requirement already satisfied: jupyterlab-pygments in /Users/architchoudhary/anaconda3/lib/python3.11/site-packages (from nbconvert->codeium-jupyter) (0.1.2)\n",
      "Requirement already satisfied: MarkupSafe>=2.0 in /Users/architchoudhary/anaconda3/lib/python3.11/site-packages (from nbconvert->codeium-jupyter) (2.1.1)\n",
      "Requirement already satisfied: mistune<2,>=0.8.1 in /Users/architchoudhary/anaconda3/lib/python3.11/site-packages (from nbconvert->codeium-jupyter) (0.8.4)\n",
      "Requirement already satisfied: nbclient>=0.5.0 in /Users/architchoudhary/anaconda3/lib/python3.11/site-packages (from nbconvert->codeium-jupyter) (0.5.13)\n",
      "Requirement already satisfied: packaging in /Users/architchoudhary/anaconda3/lib/python3.11/site-packages (from nbconvert->codeium-jupyter) (23.0)\n",
      "Requirement already satisfied: pandocfilters>=1.4.1 in /Users/architchoudhary/anaconda3/lib/python3.11/site-packages (from nbconvert->codeium-jupyter) (1.5.0)\n",
      "Requirement already satisfied: pygments>=2.4.1 in /Users/architchoudhary/anaconda3/lib/python3.11/site-packages (from nbconvert->codeium-jupyter) (2.15.1)\n",
      "Requirement already satisfied: tinycss2 in /Users/architchoudhary/anaconda3/lib/python3.11/site-packages (from nbconvert->codeium-jupyter) (1.2.1)\n",
      "Requirement already satisfied: attrs>=17.3.0 in /Users/architchoudhary/anaconda3/lib/python3.11/site-packages (from aiohttp->codeium-jupyter) (22.1.0)\n",
      "Requirement already satisfied: charset-normalizer<3.0,>=2.0 in /Users/architchoudhary/anaconda3/lib/python3.11/site-packages (from aiohttp->codeium-jupyter) (2.0.4)\n",
      "Requirement already satisfied: multidict<7.0,>=4.5 in /Users/architchoudhary/anaconda3/lib/python3.11/site-packages (from aiohttp->codeium-jupyter) (6.0.2)\n",
      "Requirement already satisfied: async-timeout<5.0,>=4.0.0a3 in /Users/architchoudhary/anaconda3/lib/python3.11/site-packages (from aiohttp->codeium-jupyter) (4.0.2)\n",
      "Requirement already satisfied: yarl<2.0,>=1.0 in /Users/architchoudhary/anaconda3/lib/python3.11/site-packages (from aiohttp->codeium-jupyter) (1.8.1)\n",
      "Requirement already satisfied: frozenlist>=1.1.1 in /Users/architchoudhary/anaconda3/lib/python3.11/site-packages (from aiohttp->codeium-jupyter) (1.3.3)\n",
      "Requirement already satisfied: aiosignal>=1.1.2 in /Users/architchoudhary/anaconda3/lib/python3.11/site-packages (from aiohttp->codeium-jupyter) (1.2.0)\n",
      "Requirement already satisfied: qtconsole in /Users/architchoudhary/anaconda3/lib/python3.11/site-packages (from jupyter->codeium-jupyter) (5.4.2)\n",
      "Requirement already satisfied: jupyter-console in /Users/architchoudhary/anaconda3/lib/python3.11/site-packages (from jupyter->codeium-jupyter) (6.6.3)\n",
      "Requirement already satisfied: ipywidgets in /Users/architchoudhary/anaconda3/lib/python3.11/site-packages (from jupyter->codeium-jupyter) (8.0.4)\n",
      "Requirement already satisfied: python-dateutil>=2.8.2 in /Users/architchoudhary/anaconda3/lib/python3.11/site-packages (from jupyter-client>=5.3.4->notebook>=4.2->codeium-jupyter) (2.8.2)\n",
      "Requirement already satisfied: jupyter-server>=1.8 in /Users/architchoudhary/anaconda3/lib/python3.11/site-packages (from nbclassic>=0.4.7->notebook>=4.2->codeium-jupyter) (1.23.4)\n",
      "Requirement already satisfied: notebook-shim>=0.1.0 in /Users/architchoudhary/anaconda3/lib/python3.11/site-packages (from nbclassic>=0.4.7->notebook>=4.2->codeium-jupyter) (0.2.2)\n",
      "Requirement already satisfied: fastjsonschema in /Users/architchoudhary/anaconda3/lib/python3.11/site-packages (from nbformat->notebook>=4.2->codeium-jupyter) (2.16.2)\n",
      "Requirement already satisfied: jsonschema>=2.6 in /Users/architchoudhary/anaconda3/lib/python3.11/site-packages (from nbformat->notebook>=4.2->codeium-jupyter) (4.17.3)\n",
      "Requirement already satisfied: ptyprocess in /Users/architchoudhary/anaconda3/lib/python3.11/site-packages (from terminado>=0.8.3->notebook>=4.2->codeium-jupyter) (0.7.0)\n",
      "Requirement already satisfied: idna>=2.0 in /Users/architchoudhary/anaconda3/lib/python3.11/site-packages (from yarl<2.0,>=1.0->aiohttp->codeium-jupyter) (3.4)\n",
      "Requirement already satisfied: argon2-cffi-bindings in /Users/architchoudhary/anaconda3/lib/python3.11/site-packages (from argon2-cffi->notebook>=4.2->codeium-jupyter) (21.2.0)\n",
      "Requirement already satisfied: soupsieve>1.2 in /Users/architchoudhary/anaconda3/lib/python3.11/site-packages (from beautifulsoup4->nbconvert->codeium-jupyter) (2.4)\n",
      "Requirement already satisfied: six>=1.9.0 in /Users/architchoudhary/anaconda3/lib/python3.11/site-packages (from bleach->nbconvert->codeium-jupyter) (1.16.0)\n",
      "Requirement already satisfied: webencodings in /Users/architchoudhary/anaconda3/lib/python3.11/site-packages (from bleach->nbconvert->codeium-jupyter) (0.5.1)\n",
      "Requirement already satisfied: appnope in /Users/architchoudhary/anaconda3/lib/python3.11/site-packages (from ipykernel->notebook>=4.2->codeium-jupyter) (0.1.2)\n",
      "Requirement already satisfied: comm>=0.1.1 in /Users/architchoudhary/anaconda3/lib/python3.11/site-packages (from ipykernel->notebook>=4.2->codeium-jupyter) (0.1.2)\n",
      "Requirement already satisfied: debugpy>=1.0 in /Users/architchoudhary/anaconda3/lib/python3.11/site-packages (from ipykernel->notebook>=4.2->codeium-jupyter) (1.6.7)\n",
      "Requirement already satisfied: ipython>=7.23.1 in /Users/architchoudhary/anaconda3/lib/python3.11/site-packages (from ipykernel->notebook>=4.2->codeium-jupyter) (8.12.0)\n",
      "Requirement already satisfied: matplotlib-inline>=0.1 in /Users/architchoudhary/anaconda3/lib/python3.11/site-packages (from ipykernel->notebook>=4.2->codeium-jupyter) (0.1.6)\n",
      "Requirement already satisfied: psutil in /Users/architchoudhary/anaconda3/lib/python3.11/site-packages (from ipykernel->notebook>=4.2->codeium-jupyter) (5.9.0)\n",
      "Requirement already satisfied: widgetsnbextension~=4.0 in /Users/architchoudhary/anaconda3/lib/python3.11/site-packages (from ipywidgets->jupyter->codeium-jupyter) (4.0.5)\n",
      "Requirement already satisfied: jupyterlab-widgets~=3.0 in /Users/architchoudhary/anaconda3/lib/python3.11/site-packages (from ipywidgets->jupyter->codeium-jupyter) (3.0.5)\n"
     ]
    },
    {
     "name": "stdout",
     "output_type": "stream",
     "text": [
      "Requirement already satisfied: prompt-toolkit>=3.0.30 in /Users/architchoudhary/anaconda3/lib/python3.11/site-packages (from jupyter-console->jupyter->codeium-jupyter) (3.0.36)\n",
      "Requirement already satisfied: qtpy>=2.0.1 in /Users/architchoudhary/anaconda3/lib/python3.11/site-packages (from qtconsole->jupyter->codeium-jupyter) (2.2.0)\n",
      "Requirement already satisfied: backcall in /Users/architchoudhary/anaconda3/lib/python3.11/site-packages (from ipython>=7.23.1->ipykernel->notebook>=4.2->codeium-jupyter) (0.2.0)\n",
      "Requirement already satisfied: decorator in /Users/architchoudhary/anaconda3/lib/python3.11/site-packages (from ipython>=7.23.1->ipykernel->notebook>=4.2->codeium-jupyter) (5.1.1)\n",
      "Requirement already satisfied: jedi>=0.16 in /Users/architchoudhary/anaconda3/lib/python3.11/site-packages (from ipython>=7.23.1->ipykernel->notebook>=4.2->codeium-jupyter) (0.18.1)\n",
      "Requirement already satisfied: pickleshare in /Users/architchoudhary/anaconda3/lib/python3.11/site-packages (from ipython>=7.23.1->ipykernel->notebook>=4.2->codeium-jupyter) (0.7.5)\n",
      "Requirement already satisfied: stack-data in /Users/architchoudhary/anaconda3/lib/python3.11/site-packages (from ipython>=7.23.1->ipykernel->notebook>=4.2->codeium-jupyter) (0.2.0)\n",
      "Requirement already satisfied: pexpect>4.3 in /Users/architchoudhary/anaconda3/lib/python3.11/site-packages (from ipython>=7.23.1->ipykernel->notebook>=4.2->codeium-jupyter) (4.8.0)\n",
      "Requirement already satisfied: pyrsistent!=0.17.0,!=0.17.1,!=0.17.2,>=0.14.0 in /Users/architchoudhary/anaconda3/lib/python3.11/site-packages (from jsonschema>=2.6->nbformat->notebook>=4.2->codeium-jupyter) (0.18.0)\n",
      "Requirement already satisfied: anyio<4,>=3.1.0 in /Users/architchoudhary/anaconda3/lib/python3.11/site-packages (from jupyter-server>=1.8->nbclassic>=0.4.7->notebook>=4.2->codeium-jupyter) (3.5.0)\n",
      "Requirement already satisfied: websocket-client in /Users/architchoudhary/anaconda3/lib/python3.11/site-packages (from jupyter-server>=1.8->nbclassic>=0.4.7->notebook>=4.2->codeium-jupyter) (0.58.0)\n",
      "Requirement already satisfied: wcwidth in /Users/architchoudhary/anaconda3/lib/python3.11/site-packages (from prompt-toolkit>=3.0.30->jupyter-console->jupyter->codeium-jupyter) (0.2.5)\n",
      "Requirement already satisfied: cffi>=1.0.1 in /Users/architchoudhary/anaconda3/lib/python3.11/site-packages (from argon2-cffi-bindings->argon2-cffi->notebook>=4.2->codeium-jupyter) (1.15.1)\n",
      "Requirement already satisfied: sniffio>=1.1 in /Users/architchoudhary/anaconda3/lib/python3.11/site-packages (from anyio<4,>=3.1.0->jupyter-server>=1.8->nbclassic>=0.4.7->notebook>=4.2->codeium-jupyter) (1.2.0)\n",
      "Requirement already satisfied: pycparser in /Users/architchoudhary/anaconda3/lib/python3.11/site-packages (from cffi>=1.0.1->argon2-cffi-bindings->argon2-cffi->notebook>=4.2->codeium-jupyter) (2.21)\n",
      "Requirement already satisfied: parso<0.9.0,>=0.8.0 in /Users/architchoudhary/anaconda3/lib/python3.11/site-packages (from jedi>=0.16->ipython>=7.23.1->ipykernel->notebook>=4.2->codeium-jupyter) (0.8.3)\n",
      "Requirement already satisfied: executing in /Users/architchoudhary/anaconda3/lib/python3.11/site-packages (from stack-data->ipython>=7.23.1->ipykernel->notebook>=4.2->codeium-jupyter) (0.8.3)\n",
      "Requirement already satisfied: asttokens in /Users/architchoudhary/anaconda3/lib/python3.11/site-packages (from stack-data->ipython>=7.23.1->ipykernel->notebook>=4.2->codeium-jupyter) (2.0.5)\n",
      "Requirement already satisfied: pure-eval in /Users/architchoudhary/anaconda3/lib/python3.11/site-packages (from stack-data->ipython>=7.23.1->ipykernel->notebook>=4.2->codeium-jupyter) (0.2.2)\n",
      "Installing /Users/architchoudhary/.local/lib/python3.11/site-packages/codeium/static -> codeium\n",
      "Up to date: /Users/architchoudhary/Library/Jupyter/nbextensions/codeium/codeium_square_warning.svg\n",
      "Up to date: /Users/architchoudhary/Library/Jupyter/nbextensions/codeium/main.css\n",
      "Up to date: /Users/architchoudhary/Library/Jupyter/nbextensions/codeium/main.js\n",
      "Up to date: /Users/architchoudhary/Library/Jupyter/nbextensions/codeium/codeium_square_error.svg\n",
      "Up to date: /Users/architchoudhary/Library/Jupyter/nbextensions/codeium/codeium_square_logo.svg\n",
      "Up to date: /Users/architchoudhary/Library/Jupyter/nbextensions/codeium/README.rst\n",
      "Up to date: /Users/architchoudhary/Library/Jupyter/nbextensions/codeium/codeium_square_inactive.svg\n",
      "Up to date: /Users/architchoudhary/Library/Jupyter/nbextensions/codeium/codeium.yaml\n",
      "Up to date: /Users/architchoudhary/Library/Jupyter/nbextensions/codeium/codeium_square_processing.svg\n",
      "- Validating: \u001b[32mOK\u001b[0m\n",
      "\n",
      "    To initialize this nbextension in the browser every time the notebook (or other app) loads:\n",
      "    \n",
      "          jupyter nbextension enable codeium --user --py\n",
      "    \n",
      "Enabling notebook extension codeium/main...\n",
      "      - Validating: \u001b[32mOK\u001b[0m\n",
      "Enabling: codeium\n",
      "- Writing config: /Users/architchoudhary/.jupyter\n",
      "    - Validating...\n",
      "      codeium  \u001b[32mOK\u001b[0m\n"
     ]
    }
   ],
   "source": [
    "import pandas as pd\n",
    "import sys\n",
    "!{sys.executable} -m pip install -U pip --user\n",
    "!{sys.executable} -m pip install -U codeium-jupyter --user\n",
    "!jupyter nbextension install --py codeium --user\n",
    "!jupyter nbextension enable --py codeium --user\n",
    "!jupyter serverextension enable --py codeium --user"
   ]
  },
  {
   "cell_type": "markdown",
   "metadata": {
    "id": "KegC9nPDdiT7"
   },
   "source": [
    "# Notebook Presentation"
   ]
  },
  {
   "cell_type": "code",
   "execution_count": null,
   "metadata": {
    "id": "WPL7rhJndiT7"
   },
   "outputs": [],
   "source": [
    "# Show numeric output in decimal format e.g., 2.15\n",
    "pd.options.display.float_format = '{:,.2f}'.format"
   ]
  },
  {
   "cell_type": "markdown",
   "metadata": {
    "id": "Uc9LOZu9diT-"
   },
   "source": [
    "# Read the Dataset"
   ]
  },
  {
   "cell_type": "code",
   "execution_count": 16,
   "metadata": {
    "colab": {
     "base_uri": "https://localhost:8080/",
     "height": 375
    },
    "executionInfo": {
     "elapsed": 441,
     "status": "error",
     "timestamp": 1602234486357,
     "user": {
      "displayName": "Philipp Muellauer",
      "photoUrl": "https://lh3.googleusercontent.com/a-/AOh14GjjWitgsmZ0M9Wmzf-SRYD005WcMGhejWWHMUiZnFw=s64",
      "userId": "02749974243016517270"
     },
     "user_tz": -60
    },
    "id": "zU0Zisv_diT-",
    "outputId": "f88a917e-30a1-45a4-b17a-ab21e557913c"
   },
   "outputs": [
    {
     "data": {
      "text/html": [
       "<div>\n",
       "<style scoped>\n",
       "    .dataframe tbody tr th:only-of-type {\n",
       "        vertical-align: middle;\n",
       "    }\n",
       "\n",
       "    .dataframe tbody tr th {\n",
       "        vertical-align: top;\n",
       "    }\n",
       "\n",
       "    .dataframe thead th {\n",
       "        text-align: right;\n",
       "    }\n",
       "</style>\n",
       "<table border=\"1\" class=\"dataframe\">\n",
       "  <thead>\n",
       "    <tr style=\"text-align: right;\">\n",
       "      <th></th>\n",
       "      <th>App</th>\n",
       "      <th>Category</th>\n",
       "      <th>Rating</th>\n",
       "      <th>Reviews</th>\n",
       "      <th>Size_MBs</th>\n",
       "      <th>Installs</th>\n",
       "      <th>Type</th>\n",
       "      <th>Price</th>\n",
       "      <th>Content_Rating</th>\n",
       "      <th>Genres</th>\n",
       "      <th>Last_Updated</th>\n",
       "      <th>Android_Ver</th>\n",
       "    </tr>\n",
       "  </thead>\n",
       "  <tbody>\n",
       "    <tr>\n",
       "      <th>0</th>\n",
       "      <td>False</td>\n",
       "      <td>False</td>\n",
       "      <td>True</td>\n",
       "      <td>False</td>\n",
       "      <td>False</td>\n",
       "      <td>False</td>\n",
       "      <td>False</td>\n",
       "      <td>False</td>\n",
       "      <td>False</td>\n",
       "      <td>False</td>\n",
       "      <td>False</td>\n",
       "      <td>False</td>\n",
       "    </tr>\n",
       "    <tr>\n",
       "      <th>1</th>\n",
       "      <td>False</td>\n",
       "      <td>False</td>\n",
       "      <td>True</td>\n",
       "      <td>False</td>\n",
       "      <td>False</td>\n",
       "      <td>False</td>\n",
       "      <td>False</td>\n",
       "      <td>False</td>\n",
       "      <td>False</td>\n",
       "      <td>False</td>\n",
       "      <td>False</td>\n",
       "      <td>False</td>\n",
       "    </tr>\n",
       "    <tr>\n",
       "      <th>2</th>\n",
       "      <td>False</td>\n",
       "      <td>False</td>\n",
       "      <td>True</td>\n",
       "      <td>False</td>\n",
       "      <td>False</td>\n",
       "      <td>False</td>\n",
       "      <td>False</td>\n",
       "      <td>False</td>\n",
       "      <td>False</td>\n",
       "      <td>False</td>\n",
       "      <td>False</td>\n",
       "      <td>False</td>\n",
       "    </tr>\n",
       "    <tr>\n",
       "      <th>3</th>\n",
       "      <td>False</td>\n",
       "      <td>False</td>\n",
       "      <td>True</td>\n",
       "      <td>False</td>\n",
       "      <td>False</td>\n",
       "      <td>False</td>\n",
       "      <td>True</td>\n",
       "      <td>False</td>\n",
       "      <td>False</td>\n",
       "      <td>False</td>\n",
       "      <td>False</td>\n",
       "      <td>False</td>\n",
       "    </tr>\n",
       "    <tr>\n",
       "      <th>4</th>\n",
       "      <td>False</td>\n",
       "      <td>False</td>\n",
       "      <td>True</td>\n",
       "      <td>False</td>\n",
       "      <td>False</td>\n",
       "      <td>False</td>\n",
       "      <td>False</td>\n",
       "      <td>False</td>\n",
       "      <td>False</td>\n",
       "      <td>False</td>\n",
       "      <td>False</td>\n",
       "      <td>False</td>\n",
       "    </tr>\n",
       "    <tr>\n",
       "      <th>...</th>\n",
       "      <td>...</td>\n",
       "      <td>...</td>\n",
       "      <td>...</td>\n",
       "      <td>...</td>\n",
       "      <td>...</td>\n",
       "      <td>...</td>\n",
       "      <td>...</td>\n",
       "      <td>...</td>\n",
       "      <td>...</td>\n",
       "      <td>...</td>\n",
       "      <td>...</td>\n",
       "      <td>...</td>\n",
       "    </tr>\n",
       "    <tr>\n",
       "      <th>10836</th>\n",
       "      <td>False</td>\n",
       "      <td>False</td>\n",
       "      <td>False</td>\n",
       "      <td>False</td>\n",
       "      <td>False</td>\n",
       "      <td>False</td>\n",
       "      <td>False</td>\n",
       "      <td>False</td>\n",
       "      <td>False</td>\n",
       "      <td>False</td>\n",
       "      <td>False</td>\n",
       "      <td>False</td>\n",
       "    </tr>\n",
       "    <tr>\n",
       "      <th>10837</th>\n",
       "      <td>False</td>\n",
       "      <td>False</td>\n",
       "      <td>False</td>\n",
       "      <td>False</td>\n",
       "      <td>False</td>\n",
       "      <td>False</td>\n",
       "      <td>False</td>\n",
       "      <td>False</td>\n",
       "      <td>False</td>\n",
       "      <td>False</td>\n",
       "      <td>False</td>\n",
       "      <td>False</td>\n",
       "    </tr>\n",
       "    <tr>\n",
       "      <th>10838</th>\n",
       "      <td>False</td>\n",
       "      <td>False</td>\n",
       "      <td>False</td>\n",
       "      <td>False</td>\n",
       "      <td>False</td>\n",
       "      <td>False</td>\n",
       "      <td>False</td>\n",
       "      <td>False</td>\n",
       "      <td>False</td>\n",
       "      <td>False</td>\n",
       "      <td>False</td>\n",
       "      <td>False</td>\n",
       "    </tr>\n",
       "    <tr>\n",
       "      <th>10839</th>\n",
       "      <td>False</td>\n",
       "      <td>False</td>\n",
       "      <td>False</td>\n",
       "      <td>False</td>\n",
       "      <td>False</td>\n",
       "      <td>False</td>\n",
       "      <td>False</td>\n",
       "      <td>False</td>\n",
       "      <td>False</td>\n",
       "      <td>False</td>\n",
       "      <td>False</td>\n",
       "      <td>False</td>\n",
       "    </tr>\n",
       "    <tr>\n",
       "      <th>10840</th>\n",
       "      <td>False</td>\n",
       "      <td>False</td>\n",
       "      <td>False</td>\n",
       "      <td>False</td>\n",
       "      <td>False</td>\n",
       "      <td>False</td>\n",
       "      <td>False</td>\n",
       "      <td>False</td>\n",
       "      <td>False</td>\n",
       "      <td>False</td>\n",
       "      <td>False</td>\n",
       "      <td>False</td>\n",
       "    </tr>\n",
       "  </tbody>\n",
       "</table>\n",
       "<p>10841 rows × 12 columns</p>\n",
       "</div>"
      ],
      "text/plain": [
       "         App  Category  Rating  Reviews  Size_MBs  Installs   Type  Price  \\\n",
       "0      False     False    True    False     False     False  False  False   \n",
       "1      False     False    True    False     False     False  False  False   \n",
       "2      False     False    True    False     False     False  False  False   \n",
       "3      False     False    True    False     False     False   True  False   \n",
       "4      False     False    True    False     False     False  False  False   \n",
       "...      ...       ...     ...      ...       ...       ...    ...    ...   \n",
       "10836  False     False   False    False     False     False  False  False   \n",
       "10837  False     False   False    False     False     False  False  False   \n",
       "10838  False     False   False    False     False     False  False  False   \n",
       "10839  False     False   False    False     False     False  False  False   \n",
       "10840  False     False   False    False     False     False  False  False   \n",
       "\n",
       "       Content_Rating  Genres  Last_Updated  Android_Ver  \n",
       "0               False   False         False        False  \n",
       "1               False   False         False        False  \n",
       "2               False   False         False        False  \n",
       "3               False   False         False        False  \n",
       "4               False   False         False        False  \n",
       "...               ...     ...           ...          ...  \n",
       "10836           False   False         False        False  \n",
       "10837           False   False         False        False  \n",
       "10838           False   False         False        False  \n",
       "10839           False   False         False        False  \n",
       "10840           False   False         False        False  \n",
       "\n",
       "[10841 rows x 12 columns]"
      ]
     },
     "execution_count": 16,
     "metadata": {},
     "output_type": "execute_result"
    }
   ],
   "source": [
    "df_apps = pd.read_csv('apps.csv')\n",
    "df_apps.isna()"
   ]
  },
  {
   "cell_type": "markdown",
   "metadata": {
    "id": "iKvSUwQldiUA"
   },
   "source": [
    "# Data Cleaning"
   ]
  },
  {
   "cell_type": "markdown",
   "metadata": {
    "id": "MWTzYZIds5L9"
   },
   "source": [
    "**Challenge**: How many rows and columns does `df_apps` have? What are the column names? Look at a random sample of 5 different rows with [.sample()](https://pandas.pydata.org/pandas-docs/stable/reference/api/pandas.DataFrame.sample.html)."
   ]
  },
  {
   "cell_type": "code",
   "execution_count": null,
   "metadata": {
    "id": "HJI7UsPrnuRf"
   },
   "outputs": [],
   "source": []
  },
  {
   "cell_type": "code",
   "execution_count": null,
   "metadata": {
    "id": "fKXFjPkmnuYA"
   },
   "outputs": [],
   "source": []
  },
  {
   "cell_type": "code",
   "execution_count": null,
   "metadata": {
    "id": "MUluaHF5nueH"
   },
   "outputs": [],
   "source": []
  },
  {
   "cell_type": "markdown",
   "metadata": {
    "id": "Hh81sMcvdiUI"
   },
   "source": [
    "### Drop Unused Columns\n",
    "\n",
    "**Challenge**: Remove the columns called `Last_Updated` and `Android_Version` from the DataFrame. We will not use these columns. "
   ]
  },
  {
   "cell_type": "code",
   "execution_count": null,
   "metadata": {
    "id": "t7EMSKAOnyzI"
   },
   "outputs": [],
   "source": []
  },
  {
   "cell_type": "markdown",
   "metadata": {
    "id": "YQGe1DIKdiUM"
   },
   "source": [
    "### Find and Remove NaN values in Ratings\n",
    "\n",
    "**Challenge**: How may rows have a NaN value (not-a-number) in the Ratings column? Create DataFrame called `df_apps_clean` that does not include these rows. "
   ]
  },
  {
   "cell_type": "code",
   "execution_count": null,
   "metadata": {
    "id": "grcP1IOZn1Wv"
   },
   "outputs": [],
   "source": []
  },
  {
   "cell_type": "code",
   "execution_count": null,
   "metadata": {
    "id": "IbQnnPaUn1Pw"
   },
   "outputs": [],
   "source": []
  },
  {
   "cell_type": "markdown",
   "metadata": {
    "id": "pD26SWlxdiUV"
   },
   "source": [
    "### Find and Remove Duplicates\n",
    "\n",
    "**Challenge**: Are there any duplicates in data? Check for duplicates using the [.duplicated()](https://pandas.pydata.org/pandas-docs/stable/reference/api/pandas.DataFrame.duplicated.html) function. How many entries can you find for the \"Instagram\" app? Use [.drop_duplicates()](https://pandas.pydata.org/pandas-docs/stable/reference/api/pandas.DataFrame.drop_duplicates.html) to remove any duplicates from `df_apps_clean`. \n"
   ]
  },
  {
   "cell_type": "code",
   "execution_count": null,
   "metadata": {
    "id": "lE7X6KG3n5pR"
   },
   "outputs": [],
   "source": []
  },
  {
   "cell_type": "code",
   "execution_count": null,
   "metadata": {
    "id": "GK2rP7wgn53-"
   },
   "outputs": [],
   "source": []
  },
  {
   "cell_type": "code",
   "execution_count": null,
   "metadata": {
    "id": "Wtt09kiRn6GS"
   },
   "outputs": [],
   "source": []
  },
  {
   "cell_type": "code",
   "execution_count": null,
   "metadata": {
    "id": "30yZCwtKn5xC"
   },
   "outputs": [],
   "source": []
  },
  {
   "cell_type": "code",
   "execution_count": null,
   "metadata": {
    "id": "AagS_wgWn5ib"
   },
   "outputs": [],
   "source": []
  },
  {
   "cell_type": "markdown",
   "metadata": {
    "id": "GJrM69CfdiUh"
   },
   "source": [
    "# Find Highest Rated Apps\n",
    "\n",
    "**Challenge**: Identify which apps are the highest rated. What problem might you encounter if you rely exclusively on ratings alone to determine the quality of an app?"
   ]
  },
  {
   "cell_type": "code",
   "execution_count": null,
   "metadata": {
    "id": "rp7vFHBMn7st"
   },
   "outputs": [],
   "source": []
  },
  {
   "cell_type": "markdown",
   "metadata": {
    "id": "28o1Tro4diUi"
   },
   "source": [
    "# Find 5 Largest Apps in terms of Size (MBs)\n",
    "\n",
    "**Challenge**: What's the size in megabytes (MB) of the largest Android apps in the Google Play Store. Based on the data, do you think there could be limit in place or can developers make apps as large as they please? "
   ]
  },
  {
   "cell_type": "code",
   "execution_count": null,
   "metadata": {
    "id": "n5r0pJCOn9Vu"
   },
   "outputs": [],
   "source": []
  },
  {
   "cell_type": "markdown",
   "metadata": {
    "id": "C3gTckh7diUk"
   },
   "source": [
    "# Find the 5 App with Most Reviews\n",
    "\n",
    "**Challenge**: Which apps have the highest number of reviews? Are there any paid apps among the top 50?"
   ]
  },
  {
   "cell_type": "code",
   "execution_count": null,
   "metadata": {
    "id": "TLt98G0Sn_De"
   },
   "outputs": [],
   "source": []
  },
  {
   "cell_type": "markdown",
   "metadata": {
    "id": "BFoRqpezjebe"
   },
   "source": [
    "# Plotly Pie and Donut Charts - Visualise Categorical Data: Content Ratings"
   ]
  },
  {
   "cell_type": "code",
   "execution_count": null,
   "metadata": {
    "id": "c0IIxNGnoFKM"
   },
   "outputs": [],
   "source": []
  },
  {
   "cell_type": "code",
   "execution_count": null,
   "metadata": {
    "id": "TSiV6ZkjoFVg"
   },
   "outputs": [],
   "source": []
  },
  {
   "cell_type": "code",
   "execution_count": null,
   "metadata": {
    "id": "7kil2mdfoFOr"
   },
   "outputs": [],
   "source": []
  },
  {
   "cell_type": "code",
   "execution_count": null,
   "metadata": {
    "id": "6ZaHYNy2oFEE"
   },
   "outputs": [],
   "source": []
  },
  {
   "cell_type": "markdown",
   "metadata": {
    "id": "RoPpW37xdiUm"
   },
   "source": [
    "# Numeric Type Conversion: Examine the Number of Installs\n",
    "\n",
    "**Challenge**: How many apps had over 1 billion (that's right - BILLION) installations? How many apps just had a single install? \n",
    "\n",
    "Check the datatype of the Installs column.\n",
    "\n",
    "Count the number of apps at each level of installations. \n",
    "\n",
    "Convert the number of installations (the Installs column) to a numeric data type. Hint: this is a 2-step process. You'll have make sure you remove non-numeric characters first. "
   ]
  },
  {
   "cell_type": "code",
   "execution_count": null,
   "metadata": {
    "id": "uTNyWsPboJLq"
   },
   "outputs": [],
   "source": []
  },
  {
   "cell_type": "code",
   "execution_count": null,
   "metadata": {
    "id": "yzR49fYcoJRI"
   },
   "outputs": [],
   "source": []
  },
  {
   "cell_type": "code",
   "execution_count": null,
   "metadata": {
    "id": "cFjptR-JoJOE"
   },
   "outputs": [],
   "source": []
  },
  {
   "cell_type": "code",
   "execution_count": null,
   "metadata": {
    "id": "8AMmxKHgoJGT"
   },
   "outputs": [],
   "source": []
  },
  {
   "cell_type": "markdown",
   "metadata": {
    "id": "7T4sfNpFdiUv"
   },
   "source": [
    "# Find the Most Expensive Apps, Filter out the Junk, and Calculate a (ballpark) Sales Revenue Estimate\n",
    "\n",
    "Let's examine the Price column more closely.\n",
    "\n",
    "**Challenge**: Convert the price column to numeric data. Then investigate the top 20 most expensive apps in the dataset.\n",
    "\n",
    "Remove all apps that cost more than $250 from the `df_apps_clean` DataFrame.\n",
    "\n",
    "Add a column called 'Revenue_Estimate' to the DataFrame. This column should hold the price of the app times the number of installs. What are the top 10 highest grossing paid apps according to this estimate? Out of the top 10 highest grossing paid apps, how many are games?\n"
   ]
  },
  {
   "cell_type": "code",
   "execution_count": null,
   "metadata": {
    "id": "CqhX2WCJoQEp"
   },
   "outputs": [],
   "source": []
  },
  {
   "cell_type": "markdown",
   "metadata": {
    "id": "Rgposh-CdiU4"
   },
   "source": [
    "### The most expensive apps sub $250"
   ]
  },
  {
   "cell_type": "code",
   "execution_count": null,
   "metadata": {
    "id": "c8_n8z8XoUML"
   },
   "outputs": [],
   "source": []
  },
  {
   "cell_type": "markdown",
   "metadata": {
    "id": "VGu85CLb4OOH"
   },
   "source": [
    "### Highest Grossing Paid Apps (ballpark estimate)"
   ]
  },
  {
   "cell_type": "code",
   "execution_count": null,
   "metadata": {
    "id": "3mDi45iIoVzE"
   },
   "outputs": [],
   "source": []
  },
  {
   "cell_type": "markdown",
   "metadata": {
    "dc": {
     "key": "18"
    },
    "id": "lvpM2MyTdiU6",
    "run_control": {
     "frozen": true
    },
    "tags": [
     "context"
    ]
   },
   "source": [
    "# Plotly Bar Charts & Scatter Plots: Analysing App Categories"
   ]
  },
  {
   "cell_type": "code",
   "execution_count": null,
   "metadata": {
    "id": "3L6hK0aLoYxY"
   },
   "outputs": [],
   "source": []
  },
  {
   "cell_type": "code",
   "execution_count": null,
   "metadata": {
    "id": "mg50Ts9joYz1"
   },
   "outputs": [],
   "source": []
  },
  {
   "cell_type": "code",
   "execution_count": null,
   "metadata": {
    "id": "WZZizlGjoYfn"
   },
   "outputs": [],
   "source": []
  },
  {
   "cell_type": "markdown",
   "metadata": {
    "id": "0tTurR7qdiU9"
   },
   "source": [
    "### Vertical Bar Chart - Highest Competition (Number of Apps)"
   ]
  },
  {
   "cell_type": "code",
   "execution_count": null,
   "metadata": {
    "id": "SFSMH00AoaMB"
   },
   "outputs": [],
   "source": []
  },
  {
   "cell_type": "markdown",
   "metadata": {
    "id": "57mowetLdiU_"
   },
   "source": [
    "### Horizontal Bar Chart - Most Popular Categories (Highest Downloads)"
   ]
  },
  {
   "cell_type": "code",
   "execution_count": null,
   "metadata": {
    "id": "zHO7eTJmocLm"
   },
   "outputs": [],
   "source": []
  },
  {
   "cell_type": "code",
   "execution_count": null,
   "metadata": {
    "id": "h7aUARLtocCy"
   },
   "outputs": [],
   "source": []
  },
  {
   "cell_type": "markdown",
   "metadata": {
    "id": "Uxk24qMk8vrz"
   },
   "source": [
    "### Category Concentration - Downloads vs. Competition\n",
    "\n",
    "**Challenge**: \n",
    "* First, create a DataFrame that has the number of apps in one column and the number of installs in another:\n",
    "\n",
    "<img src=https://imgur.com/uQRSlXi.png width=\"350\">\n",
    "\n",
    "* Then use the [plotly express examples from the documentation](https://plotly.com/python/line-and-scatter/) alongside the [.scatter() API reference](https://plotly.com/python-api-reference/generated/plotly.express.scatter.html)to create scatter plot that looks like this. \n",
    "\n",
    "<img src=https://imgur.com/cHsqh6a.png>\n",
    "\n",
    "*Hint*: Use the size, hover_name and color parameters in .scatter(). To scale the yaxis, call .update_layout() and specify that the yaxis should be on a log-scale like so: yaxis=dict(type='log') "
   ]
  },
  {
   "cell_type": "code",
   "execution_count": null,
   "metadata": {
    "id": "tVvGPDY7oe5A"
   },
   "outputs": [],
   "source": []
  },
  {
   "cell_type": "markdown",
   "metadata": {
    "id": "dmXDF75WdiVC"
   },
   "source": [
    "# Extracting Nested Data from a Column\n",
    "\n",
    "**Challenge**: How many different types of genres are there? Can an app belong to more than one genre? Check what happens when you use .value_counts() on a column with nested values? See if you can work around this problem by using the .split() function and the DataFrame's [.stack() method](https://pandas.pydata.org/pandas-docs/stable/reference/api/pandas.DataFrame.stack.html). \n"
   ]
  },
  {
   "cell_type": "code",
   "execution_count": null,
   "metadata": {
    "id": "3Lo69kS6ogdm"
   },
   "outputs": [],
   "source": []
  },
  {
   "cell_type": "markdown",
   "metadata": {
    "id": "F3zaKvfydiVI"
   },
   "source": [
    "# Colour Scales in Plotly Charts - Competition in Genres"
   ]
  },
  {
   "cell_type": "markdown",
   "metadata": {
    "id": "Ucw6RT59diVK"
   },
   "source": [
    "**Challenge**: Can you create this chart with the Series containing the genre data? \n",
    "\n",
    "<img src=https://imgur.com/DbcoQli.png width=400>\n",
    "\n",
    "Try experimenting with the built in colour scales in Plotly. You can find a full list [here](https://plotly.com/python/builtin-colorscales/). \n",
    "\n",
    "* Find a way to set the colour scale using the color_continuous_scale parameter. \n",
    "* Find a way to make the color axis disappear by using coloraxis_showscale. "
   ]
  },
  {
   "cell_type": "code",
   "execution_count": null,
   "metadata": {
    "id": "c5xbfMgxojoA"
   },
   "outputs": [],
   "source": []
  },
  {
   "cell_type": "markdown",
   "metadata": {
    "id": "BIWG_10PyIzL"
   },
   "source": [
    "# Grouped Bar Charts: Free vs. Paid Apps per Category"
   ]
  },
  {
   "cell_type": "code",
   "execution_count": null,
   "metadata": {
    "id": "ANMs7xywolDH"
   },
   "outputs": [],
   "source": []
  },
  {
   "cell_type": "markdown",
   "metadata": {
    "id": "wmRXm0TW1e_Z"
   },
   "source": [
    "**Challenge**: Use the plotly express bar [chart examples](https://plotly.com/python/bar-charts/#bar-chart-with-sorted-or-ordered-categories) and the [.bar() API reference](https://plotly.com/python-api-reference/generated/plotly.express.bar.html#plotly.express.bar) to create this bar chart: \n",
    "\n",
    "<img src=https://imgur.com/LE0XCxA.png>\n",
    "\n",
    "You'll want to use the `df_free_vs_paid` DataFrame that you created above that has the total number of free and paid apps per category. \n",
    "\n",
    "See if you can figure out how to get the look above by changing the `categoryorder` to 'total descending' as outlined in the documentation here [here](https://plotly.com/python/categorical-axes/#automatically-sorting-categories-by-name-or-total-value). "
   ]
  },
  {
   "cell_type": "code",
   "execution_count": null,
   "metadata": {
    "id": "tqOntrS7onGt"
   },
   "outputs": [],
   "source": []
  },
  {
   "cell_type": "markdown",
   "metadata": {
    "id": "nbYh2tU-VZ-i"
   },
   "source": [
    "# Plotly Box Plots: Lost Downloads for Paid Apps\n",
    "\n",
    "**Challenge**: Create a box plot that shows the number of Installs for free versus paid apps. How does the median number of installations compare? Is the difference large or small?\n",
    "\n",
    "Use the [Box Plots Guide](https://plotly.com/python/box-plots/) and the [.box API reference](https://plotly.com/python-api-reference/generated/plotly.express.box.html) to create the following chart. \n",
    "\n",
    "<img src=https://imgur.com/uVsECT3.png>\n"
   ]
  },
  {
   "cell_type": "code",
   "execution_count": null,
   "metadata": {
    "id": "Jip3hMZ7oqLS"
   },
   "outputs": [],
   "source": []
  },
  {
   "cell_type": "markdown",
   "metadata": {
    "id": "Xi2NaEBPVNrP"
   },
   "source": [
    "# Plotly Box Plots: Revenue by App Category\n",
    "\n",
    "**Challenge**: See if you can generate the chart below: \n",
    "\n",
    "<img src=https://imgur.com/v4CiNqX.png>\n",
    "\n",
    "Looking at the hover text, how much does the median app earn in the Tools category? If developing an Android app costs $30,000 or thereabouts, does the average photography app recoup its development costs?\n",
    "\n",
    "Hint: I've used 'min ascending' to sort the categories. "
   ]
  },
  {
   "cell_type": "code",
   "execution_count": null,
   "metadata": {
    "id": "W1iVoT8Dos7x"
   },
   "outputs": [],
   "source": []
  },
  {
   "cell_type": "markdown",
   "metadata": {
    "id": "uT32ylj4WS9B"
   },
   "source": [
    "# How Much Can You Charge? Examine Paid App Pricing Strategies by Category\n",
    "\n",
    "**Challenge**: What is the median price price for a paid app? Then compare pricing by category by creating another box plot. But this time examine the prices (instead of the revenue estimates) of the paid apps. I recommend using `{categoryorder':'max descending'}` to sort the categories."
   ]
  },
  {
   "cell_type": "code",
   "execution_count": null,
   "metadata": {
    "id": "AdBr0TUhouqs"
   },
   "outputs": [],
   "source": []
  },
  {
   "cell_type": "code",
   "execution_count": null,
   "metadata": {
    "id": "bJnABRw3ovwr"
   },
   "outputs": [],
   "source": []
  },
  {
   "cell_type": "code",
   "execution_count": null,
   "metadata": {
    "id": "zSXVSlVyQ4Kz"
   },
   "outputs": [],
   "source": []
  }
 ],
 "metadata": {
  "colab": {
   "name": "Google Play Store App Analytics (start).ipynb",
   "provenance": [],
   "toc_visible": true
  },
  "kernelspec": {
   "display_name": "Python 3 (ipykernel)",
   "language": "python",
   "name": "python3"
  },
  "language_info": {
   "codemirror_mode": {
    "name": "ipython",
    "version": 3
   },
   "file_extension": ".py",
   "mimetype": "text/x-python",
   "name": "python",
   "nbconvert_exporter": "python",
   "pygments_lexer": "ipython3",
   "version": "3.11.4"
  }
 },
 "nbformat": 4,
 "nbformat_minor": 1
}
